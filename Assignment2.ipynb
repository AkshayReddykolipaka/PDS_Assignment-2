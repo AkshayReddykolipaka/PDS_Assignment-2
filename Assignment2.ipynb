{
  "nbformat": 4,
  "nbformat_minor": 0,
  "metadata": {
    "colab": {
      "provenance": []
    },
    "kernelspec": {
      "name": "python3",
      "display_name": "Python 3"
    },
    "language_info": {
      "name": "python"
    }
  },
  "cells": [
    {
      "cell_type": "code",
      "execution_count": 22,
      "metadata": {
        "id": "fi8qRMzGnDsm"
      },
      "outputs": [],
      "source": [
        "import seaborn as sn\n",
        "import pandas as pd\n",
        "import numpy as np\n",
        "from datetime import datetime"
      ]
    },
    {
      "cell_type": "code",
      "source": [
        "dataframe = pd.read_csv(\"/content/train.csv\")"
      ],
      "metadata": {
        "id": "vm8eJjVvnb0J"
      },
      "execution_count": 6,
      "outputs": []
    },
    {
      "cell_type": "code",
      "source": [
        "dataframe.head()"
      ],
      "metadata": {
        "colab": {
          "base_uri": "https://localhost:8080/",
          "height": 417
        },
        "id": "FYCjKn0JoXxJ",
        "outputId": "a771005d-ca21-4ac9-c922-0d2ef6447bed"
      },
      "execution_count": 7,
      "outputs": [
        {
          "output_type": "execute_result",
          "data": {
            "text/plain": [
              "   Unnamed: 0                              Name    Location  Year  \\\n",
              "0           1  Hyundai Creta 1.6 CRDi SX Option        Pune  2015   \n",
              "1           2                      Honda Jazz V     Chennai  2011   \n",
              "2           3                 Maruti Ertiga VDI     Chennai  2012   \n",
              "3           4   Audi A4 New 2.0 TDI Multitronic  Coimbatore  2013   \n",
              "4           6            Nissan Micra Diesel XV      Jaipur  2013   \n",
              "\n",
              "   Kilometers_Driven Fuel_Type Transmission Owner_Type     Mileage   Engine  \\\n",
              "0              41000    Diesel       Manual      First  19.67 kmpl  1582 CC   \n",
              "1              46000    Petrol       Manual      First    13 km/kg  1199 CC   \n",
              "2              87000    Diesel       Manual      First  20.77 kmpl  1248 CC   \n",
              "3              40670    Diesel    Automatic     Second   15.2 kmpl  1968 CC   \n",
              "4              86999    Diesel       Manual      First  23.08 kmpl  1461 CC   \n",
              "\n",
              "       Power  Seats  New_Price  Price  \n",
              "0  126.2 bhp    5.0        NaN  12.50  \n",
              "1   88.7 bhp    5.0  8.61 Lakh   4.50  \n",
              "2  88.76 bhp    7.0        NaN   6.00  \n",
              "3  140.8 bhp    5.0        NaN  17.74  \n",
              "4   63.1 bhp    5.0        NaN   3.50  "
            ],
            "text/html": [
              "\n",
              "  <div id=\"df-1af655ac-6e97-4a58-b420-c96dfcca093e\" class=\"colab-df-container\">\n",
              "    <div>\n",
              "<style scoped>\n",
              "    .dataframe tbody tr th:only-of-type {\n",
              "        vertical-align: middle;\n",
              "    }\n",
              "\n",
              "    .dataframe tbody tr th {\n",
              "        vertical-align: top;\n",
              "    }\n",
              "\n",
              "    .dataframe thead th {\n",
              "        text-align: right;\n",
              "    }\n",
              "</style>\n",
              "<table border=\"1\" class=\"dataframe\">\n",
              "  <thead>\n",
              "    <tr style=\"text-align: right;\">\n",
              "      <th></th>\n",
              "      <th>Unnamed: 0</th>\n",
              "      <th>Name</th>\n",
              "      <th>Location</th>\n",
              "      <th>Year</th>\n",
              "      <th>Kilometers_Driven</th>\n",
              "      <th>Fuel_Type</th>\n",
              "      <th>Transmission</th>\n",
              "      <th>Owner_Type</th>\n",
              "      <th>Mileage</th>\n",
              "      <th>Engine</th>\n",
              "      <th>Power</th>\n",
              "      <th>Seats</th>\n",
              "      <th>New_Price</th>\n",
              "      <th>Price</th>\n",
              "    </tr>\n",
              "  </thead>\n",
              "  <tbody>\n",
              "    <tr>\n",
              "      <th>0</th>\n",
              "      <td>1</td>\n",
              "      <td>Hyundai Creta 1.6 CRDi SX Option</td>\n",
              "      <td>Pune</td>\n",
              "      <td>2015</td>\n",
              "      <td>41000</td>\n",
              "      <td>Diesel</td>\n",
              "      <td>Manual</td>\n",
              "      <td>First</td>\n",
              "      <td>19.67 kmpl</td>\n",
              "      <td>1582 CC</td>\n",
              "      <td>126.2 bhp</td>\n",
              "      <td>5.0</td>\n",
              "      <td>NaN</td>\n",
              "      <td>12.50</td>\n",
              "    </tr>\n",
              "    <tr>\n",
              "      <th>1</th>\n",
              "      <td>2</td>\n",
              "      <td>Honda Jazz V</td>\n",
              "      <td>Chennai</td>\n",
              "      <td>2011</td>\n",
              "      <td>46000</td>\n",
              "      <td>Petrol</td>\n",
              "      <td>Manual</td>\n",
              "      <td>First</td>\n",
              "      <td>13 km/kg</td>\n",
              "      <td>1199 CC</td>\n",
              "      <td>88.7 bhp</td>\n",
              "      <td>5.0</td>\n",
              "      <td>8.61 Lakh</td>\n",
              "      <td>4.50</td>\n",
              "    </tr>\n",
              "    <tr>\n",
              "      <th>2</th>\n",
              "      <td>3</td>\n",
              "      <td>Maruti Ertiga VDI</td>\n",
              "      <td>Chennai</td>\n",
              "      <td>2012</td>\n",
              "      <td>87000</td>\n",
              "      <td>Diesel</td>\n",
              "      <td>Manual</td>\n",
              "      <td>First</td>\n",
              "      <td>20.77 kmpl</td>\n",
              "      <td>1248 CC</td>\n",
              "      <td>88.76 bhp</td>\n",
              "      <td>7.0</td>\n",
              "      <td>NaN</td>\n",
              "      <td>6.00</td>\n",
              "    </tr>\n",
              "    <tr>\n",
              "      <th>3</th>\n",
              "      <td>4</td>\n",
              "      <td>Audi A4 New 2.0 TDI Multitronic</td>\n",
              "      <td>Coimbatore</td>\n",
              "      <td>2013</td>\n",
              "      <td>40670</td>\n",
              "      <td>Diesel</td>\n",
              "      <td>Automatic</td>\n",
              "      <td>Second</td>\n",
              "      <td>15.2 kmpl</td>\n",
              "      <td>1968 CC</td>\n",
              "      <td>140.8 bhp</td>\n",
              "      <td>5.0</td>\n",
              "      <td>NaN</td>\n",
              "      <td>17.74</td>\n",
              "    </tr>\n",
              "    <tr>\n",
              "      <th>4</th>\n",
              "      <td>6</td>\n",
              "      <td>Nissan Micra Diesel XV</td>\n",
              "      <td>Jaipur</td>\n",
              "      <td>2013</td>\n",
              "      <td>86999</td>\n",
              "      <td>Diesel</td>\n",
              "      <td>Manual</td>\n",
              "      <td>First</td>\n",
              "      <td>23.08 kmpl</td>\n",
              "      <td>1461 CC</td>\n",
              "      <td>63.1 bhp</td>\n",
              "      <td>5.0</td>\n",
              "      <td>NaN</td>\n",
              "      <td>3.50</td>\n",
              "    </tr>\n",
              "  </tbody>\n",
              "</table>\n",
              "</div>\n",
              "    <div class=\"colab-df-buttons\">\n",
              "\n",
              "  <div class=\"colab-df-container\">\n",
              "    <button class=\"colab-df-convert\" onclick=\"convertToInteractive('df-1af655ac-6e97-4a58-b420-c96dfcca093e')\"\n",
              "            title=\"Convert this dataframe to an interactive table.\"\n",
              "            style=\"display:none;\">\n",
              "\n",
              "  <svg xmlns=\"http://www.w3.org/2000/svg\" height=\"24px\" viewBox=\"0 -960 960 960\">\n",
              "    <path d=\"M120-120v-720h720v720H120Zm60-500h600v-160H180v160Zm220 220h160v-160H400v160Zm0 220h160v-160H400v160ZM180-400h160v-160H180v160Zm440 0h160v-160H620v160ZM180-180h160v-160H180v160Zm440 0h160v-160H620v160Z\"/>\n",
              "  </svg>\n",
              "    </button>\n",
              "\n",
              "  <style>\n",
              "    .colab-df-container {\n",
              "      display:flex;\n",
              "      gap: 12px;\n",
              "    }\n",
              "\n",
              "    .colab-df-convert {\n",
              "      background-color: #E8F0FE;\n",
              "      border: none;\n",
              "      border-radius: 50%;\n",
              "      cursor: pointer;\n",
              "      display: none;\n",
              "      fill: #1967D2;\n",
              "      height: 32px;\n",
              "      padding: 0 0 0 0;\n",
              "      width: 32px;\n",
              "    }\n",
              "\n",
              "    .colab-df-convert:hover {\n",
              "      background-color: #E2EBFA;\n",
              "      box-shadow: 0px 1px 2px rgba(60, 64, 67, 0.3), 0px 1px 3px 1px rgba(60, 64, 67, 0.15);\n",
              "      fill: #174EA6;\n",
              "    }\n",
              "\n",
              "    .colab-df-buttons div {\n",
              "      margin-bottom: 4px;\n",
              "    }\n",
              "\n",
              "    [theme=dark] .colab-df-convert {\n",
              "      background-color: #3B4455;\n",
              "      fill: #D2E3FC;\n",
              "    }\n",
              "\n",
              "    [theme=dark] .colab-df-convert:hover {\n",
              "      background-color: #434B5C;\n",
              "      box-shadow: 0px 1px 3px 1px rgba(0, 0, 0, 0.15);\n",
              "      filter: drop-shadow(0px 1px 2px rgba(0, 0, 0, 0.3));\n",
              "      fill: #FFFFFF;\n",
              "    }\n",
              "  </style>\n",
              "\n",
              "    <script>\n",
              "      const buttonEl =\n",
              "        document.querySelector('#df-1af655ac-6e97-4a58-b420-c96dfcca093e button.colab-df-convert');\n",
              "      buttonEl.style.display =\n",
              "        google.colab.kernel.accessAllowed ? 'block' : 'none';\n",
              "\n",
              "      async function convertToInteractive(key) {\n",
              "        const element = document.querySelector('#df-1af655ac-6e97-4a58-b420-c96dfcca093e');\n",
              "        const dataTable =\n",
              "          await google.colab.kernel.invokeFunction('convertToInteractive',\n",
              "                                                    [key], {});\n",
              "        if (!dataTable) return;\n",
              "\n",
              "        const docLinkHtml = 'Like what you see? Visit the ' +\n",
              "          '<a target=\"_blank\" href=https://colab.research.google.com/notebooks/data_table.ipynb>data table notebook</a>'\n",
              "          + ' to learn more about interactive tables.';\n",
              "        element.innerHTML = '';\n",
              "        dataTable['output_type'] = 'display_data';\n",
              "        await google.colab.output.renderOutput(dataTable, element);\n",
              "        const docLink = document.createElement('div');\n",
              "        docLink.innerHTML = docLinkHtml;\n",
              "        element.appendChild(docLink);\n",
              "      }\n",
              "    </script>\n",
              "  </div>\n",
              "\n",
              "\n",
              "<div id=\"df-0b7b3e2f-442c-4fab-8f1e-43bf295ed92f\">\n",
              "  <button class=\"colab-df-quickchart\" onclick=\"quickchart('df-0b7b3e2f-442c-4fab-8f1e-43bf295ed92f')\"\n",
              "            title=\"Suggest charts.\"\n",
              "            style=\"display:none;\">\n",
              "\n",
              "<svg xmlns=\"http://www.w3.org/2000/svg\" height=\"24px\"viewBox=\"0 0 24 24\"\n",
              "     width=\"24px\">\n",
              "    <g>\n",
              "        <path d=\"M19 3H5c-1.1 0-2 .9-2 2v14c0 1.1.9 2 2 2h14c1.1 0 2-.9 2-2V5c0-1.1-.9-2-2-2zM9 17H7v-7h2v7zm4 0h-2V7h2v10zm4 0h-2v-4h2v4z\"/>\n",
              "    </g>\n",
              "</svg>\n",
              "  </button>\n",
              "\n",
              "<style>\n",
              "  .colab-df-quickchart {\n",
              "      --bg-color: #E8F0FE;\n",
              "      --fill-color: #1967D2;\n",
              "      --hover-bg-color: #E2EBFA;\n",
              "      --hover-fill-color: #174EA6;\n",
              "      --disabled-fill-color: #AAA;\n",
              "      --disabled-bg-color: #DDD;\n",
              "  }\n",
              "\n",
              "  [theme=dark] .colab-df-quickchart {\n",
              "      --bg-color: #3B4455;\n",
              "      --fill-color: #D2E3FC;\n",
              "      --hover-bg-color: #434B5C;\n",
              "      --hover-fill-color: #FFFFFF;\n",
              "      --disabled-bg-color: #3B4455;\n",
              "      --disabled-fill-color: #666;\n",
              "  }\n",
              "\n",
              "  .colab-df-quickchart {\n",
              "    background-color: var(--bg-color);\n",
              "    border: none;\n",
              "    border-radius: 50%;\n",
              "    cursor: pointer;\n",
              "    display: none;\n",
              "    fill: var(--fill-color);\n",
              "    height: 32px;\n",
              "    padding: 0;\n",
              "    width: 32px;\n",
              "  }\n",
              "\n",
              "  .colab-df-quickchart:hover {\n",
              "    background-color: var(--hover-bg-color);\n",
              "    box-shadow: 0 1px 2px rgba(60, 64, 67, 0.3), 0 1px 3px 1px rgba(60, 64, 67, 0.15);\n",
              "    fill: var(--button-hover-fill-color);\n",
              "  }\n",
              "\n",
              "  .colab-df-quickchart-complete:disabled,\n",
              "  .colab-df-quickchart-complete:disabled:hover {\n",
              "    background-color: var(--disabled-bg-color);\n",
              "    fill: var(--disabled-fill-color);\n",
              "    box-shadow: none;\n",
              "  }\n",
              "\n",
              "  .colab-df-spinner {\n",
              "    border: 2px solid var(--fill-color);\n",
              "    border-color: transparent;\n",
              "    border-bottom-color: var(--fill-color);\n",
              "    animation:\n",
              "      spin 1s steps(1) infinite;\n",
              "  }\n",
              "\n",
              "  @keyframes spin {\n",
              "    0% {\n",
              "      border-color: transparent;\n",
              "      border-bottom-color: var(--fill-color);\n",
              "      border-left-color: var(--fill-color);\n",
              "    }\n",
              "    20% {\n",
              "      border-color: transparent;\n",
              "      border-left-color: var(--fill-color);\n",
              "      border-top-color: var(--fill-color);\n",
              "    }\n",
              "    30% {\n",
              "      border-color: transparent;\n",
              "      border-left-color: var(--fill-color);\n",
              "      border-top-color: var(--fill-color);\n",
              "      border-right-color: var(--fill-color);\n",
              "    }\n",
              "    40% {\n",
              "      border-color: transparent;\n",
              "      border-right-color: var(--fill-color);\n",
              "      border-top-color: var(--fill-color);\n",
              "    }\n",
              "    60% {\n",
              "      border-color: transparent;\n",
              "      border-right-color: var(--fill-color);\n",
              "    }\n",
              "    80% {\n",
              "      border-color: transparent;\n",
              "      border-right-color: var(--fill-color);\n",
              "      border-bottom-color: var(--fill-color);\n",
              "    }\n",
              "    90% {\n",
              "      border-color: transparent;\n",
              "      border-bottom-color: var(--fill-color);\n",
              "    }\n",
              "  }\n",
              "</style>\n",
              "\n",
              "  <script>\n",
              "    async function quickchart(key) {\n",
              "      const quickchartButtonEl =\n",
              "        document.querySelector('#' + key + ' button');\n",
              "      quickchartButtonEl.disabled = true;  // To prevent multiple clicks.\n",
              "      quickchartButtonEl.classList.add('colab-df-spinner');\n",
              "      try {\n",
              "        const charts = await google.colab.kernel.invokeFunction(\n",
              "            'suggestCharts', [key], {});\n",
              "      } catch (error) {\n",
              "        console.error('Error during call to suggestCharts:', error);\n",
              "      }\n",
              "      quickchartButtonEl.classList.remove('colab-df-spinner');\n",
              "      quickchartButtonEl.classList.add('colab-df-quickchart-complete');\n",
              "    }\n",
              "    (() => {\n",
              "      let quickchartButtonEl =\n",
              "        document.querySelector('#df-0b7b3e2f-442c-4fab-8f1e-43bf295ed92f button');\n",
              "      quickchartButtonEl.style.display =\n",
              "        google.colab.kernel.accessAllowed ? 'block' : 'none';\n",
              "    })();\n",
              "  </script>\n",
              "</div>\n",
              "    </div>\n",
              "  </div>\n"
            ]
          },
          "metadata": {},
          "execution_count": 7
        }
      ]
    },
    {
      "cell_type": "code",
      "source": [
        "len(dataframe)"
      ],
      "metadata": {
        "colab": {
          "base_uri": "https://localhost:8080/"
        },
        "id": "MQ3jG77WocJd",
        "outputId": "555ad00c-402d-44b2-ee4a-3933dff9e1d7"
      },
      "execution_count": 8,
      "outputs": [
        {
          "output_type": "execute_result",
          "data": {
            "text/plain": [
              "5847"
            ]
          },
          "metadata": {},
          "execution_count": 8
        }
      ]
    },
    {
      "cell_type": "code",
      "source": [
        "dataframe.isnull().sum()"
      ],
      "metadata": {
        "colab": {
          "base_uri": "https://localhost:8080/"
        },
        "id": "eo4cScD7omUh",
        "outputId": "686773bf-e389-4fbd-9cec-9bf68d0d5a5c"
      },
      "execution_count": 10,
      "outputs": [
        {
          "output_type": "execute_result",
          "data": {
            "text/plain": [
              "Unnamed: 0              0\n",
              "Name                    0\n",
              "Location                0\n",
              "Year                    0\n",
              "Kilometers_Driven       0\n",
              "Fuel_Type               0\n",
              "Transmission            0\n",
              "Owner_Type              0\n",
              "Mileage                 2\n",
              "Engine                 36\n",
              "Power                  36\n",
              "Seats                  38\n",
              "New_Price            5032\n",
              "Price                   0\n",
              "dtype: int64"
            ]
          },
          "metadata": {},
          "execution_count": 10
        }
      ]
    },
    {
      "cell_type": "code",
      "source": [
        "dataframe=dataframe.dropna()"
      ],
      "metadata": {
        "id": "qxxUGBGjoyhH"
      },
      "execution_count": 11,
      "outputs": []
    },
    {
      "cell_type": "code",
      "source": [
        "dataframe.isnull().sum()"
      ],
      "metadata": {
        "colab": {
          "base_uri": "https://localhost:8080/"
        },
        "id": "TTwvrljspGVC",
        "outputId": "da5944f4-30c8-4dee-ab10-9a499fe7d650"
      },
      "execution_count": 12,
      "outputs": [
        {
          "output_type": "execute_result",
          "data": {
            "text/plain": [
              "Unnamed: 0           0\n",
              "Name                 0\n",
              "Location             0\n",
              "Year                 0\n",
              "Kilometers_Driven    0\n",
              "Fuel_Type            0\n",
              "Transmission         0\n",
              "Owner_Type           0\n",
              "Mileage              0\n",
              "Engine               0\n",
              "Power                0\n",
              "Seats                0\n",
              "New_Price            0\n",
              "Price                0\n",
              "dtype: int64"
            ]
          },
          "metadata": {},
          "execution_count": 12
        }
      ]
    },
    {
      "cell_type": "code",
      "source": [
        "print(dataframe)"
      ],
      "metadata": {
        "colab": {
          "base_uri": "https://localhost:8080/"
        },
        "id": "rawv5bUVpNyf",
        "outputId": "36d9a0b1-e686-4440-d3f5-ac759f2a8f3e"
      },
      "execution_count": 13,
      "outputs": [
        {
          "output_type": "stream",
          "name": "stdout",
          "text": [
            "      Unnamed: 0                               Name Location  Year  \\\n",
            "1              2                       Honda Jazz V  Chennai  2011   \n",
            "5              7  Toyota Innova Crysta 2.8 GX AT 8S   Mumbai  2016   \n",
            "8             10                   Maruti Ciaz Zeta    Kochi  2018   \n",
            "13            15        Mitsubishi Pajero Sport 4X4    Delhi  2014   \n",
            "18            20                  BMW 3 Series 320d    Kochi  2014   \n",
            "...          ...                                ...      ...   ...   \n",
            "5827        5999              Tata Bolt Revotron XT  Chennai  2016   \n",
            "5830        6002      Volkswagen Vento 1.6 Highline   Mumbai  2011   \n",
            "5833        6005           Maruti Vitara Brezza VDi     Pune  2016   \n",
            "5838        6010               Honda Brio 1.2 VX MT    Delhi  2013   \n",
            "5842        6014                   Maruti Swift VDI    Delhi  2014   \n",
            "\n",
            "      Kilometers_Driven Fuel_Type Transmission Owner_Type     Mileage  \\\n",
            "1                 46000    Petrol       Manual      First    13 km/kg   \n",
            "5                 36000    Diesel    Automatic      First  11.36 kmpl   \n",
            "8                 25692    Petrol       Manual      First  21.56 kmpl   \n",
            "13               110000    Diesel       Manual      First   13.5 kmpl   \n",
            "18                32982    Diesel    Automatic      First  22.69 kmpl   \n",
            "...                 ...       ...          ...        ...         ...   \n",
            "5827              10000    Petrol       Manual      First  17.57 kmpl   \n",
            "5830              38000    Petrol       Manual      First  16.09 kmpl   \n",
            "5833              37208    Diesel       Manual      First   24.3 kmpl   \n",
            "5838              33746    Petrol       Manual      First   18.5 kmpl   \n",
            "5842              27365    Diesel       Manual      First   28.4 kmpl   \n",
            "\n",
            "       Engine       Power  Seats   New_Price  Price  \n",
            "1     1199 CC    88.7 bhp    5.0   8.61 Lakh   4.50  \n",
            "5     2755 CC   171.5 bhp    8.0     21 Lakh  17.50  \n",
            "8     1462 CC  103.25 bhp    5.0  10.65 Lakh   9.95  \n",
            "13    2477 CC  175.56 bhp    7.0  32.01 Lakh  15.00  \n",
            "18    1995 CC     190 bhp    5.0  47.87 Lakh  18.55  \n",
            "...       ...         ...    ...         ...    ...  \n",
            "5827  1193 CC    88.7 bhp    5.0   7.77 Lakh   4.00  \n",
            "5830  1598 CC   103.5 bhp    5.0  11.91 Lakh   3.25  \n",
            "5833  1248 CC    88.5 bhp    5.0   9.93 Lakh   7.43  \n",
            "5838  1198 CC    86.8 bhp    5.0   6.63 Lakh   3.20  \n",
            "5842  1248 CC      74 bhp    5.0   7.88 Lakh   4.75  \n",
            "\n",
            "[814 rows x 14 columns]\n"
          ]
        }
      ]
    },
    {
      "cell_type": "code",
      "source": [
        "def numeric(value):\n",
        "    if pd.isnull(value):\n",
        "        return None  # Just in case there are NaN values in your data\n",
        "    numeric_part = ''.join(filter(str.isdigit, value))\n",
        "    return int(numeric_part) if numeric_part.isdigit() else None"
      ],
      "metadata": {
        "id": "_zLYlPA0pSlY"
      },
      "execution_count": 14,
      "outputs": []
    },
    {
      "cell_type": "code",
      "source": [
        "dataframe['Mileage']=dataframe['Mileage'].apply(numeric)"
      ],
      "metadata": {
        "id": "bKuESqnMp71A"
      },
      "execution_count": 15,
      "outputs": []
    },
    {
      "cell_type": "code",
      "source": [
        "print(dataframe)"
      ],
      "metadata": {
        "colab": {
          "base_uri": "https://localhost:8080/"
        },
        "id": "j-9MuxWCqMdc",
        "outputId": "86cbc2d5-7bb8-479b-9a31-91e1821c08a6"
      },
      "execution_count": 16,
      "outputs": [
        {
          "output_type": "stream",
          "name": "stdout",
          "text": [
            "      Unnamed: 0                               Name Location  Year  \\\n",
            "1              2                       Honda Jazz V  Chennai  2011   \n",
            "5              7  Toyota Innova Crysta 2.8 GX AT 8S   Mumbai  2016   \n",
            "8             10                   Maruti Ciaz Zeta    Kochi  2018   \n",
            "13            15        Mitsubishi Pajero Sport 4X4    Delhi  2014   \n",
            "18            20                  BMW 3 Series 320d    Kochi  2014   \n",
            "...          ...                                ...      ...   ...   \n",
            "5827        5999              Tata Bolt Revotron XT  Chennai  2016   \n",
            "5830        6002      Volkswagen Vento 1.6 Highline   Mumbai  2011   \n",
            "5833        6005           Maruti Vitara Brezza VDi     Pune  2016   \n",
            "5838        6010               Honda Brio 1.2 VX MT    Delhi  2013   \n",
            "5842        6014                   Maruti Swift VDI    Delhi  2014   \n",
            "\n",
            "      Kilometers_Driven Fuel_Type Transmission Owner_Type  Mileage   Engine  \\\n",
            "1                 46000    Petrol       Manual      First       13  1199 CC   \n",
            "5                 36000    Diesel    Automatic      First     1136  2755 CC   \n",
            "8                 25692    Petrol       Manual      First     2156  1462 CC   \n",
            "13               110000    Diesel       Manual      First      135  2477 CC   \n",
            "18                32982    Diesel    Automatic      First     2269  1995 CC   \n",
            "...                 ...       ...          ...        ...      ...      ...   \n",
            "5827              10000    Petrol       Manual      First     1757  1193 CC   \n",
            "5830              38000    Petrol       Manual      First     1609  1598 CC   \n",
            "5833              37208    Diesel       Manual      First      243  1248 CC   \n",
            "5838              33746    Petrol       Manual      First      185  1198 CC   \n",
            "5842              27365    Diesel       Manual      First      284  1248 CC   \n",
            "\n",
            "           Power  Seats   New_Price  Price  \n",
            "1       88.7 bhp    5.0   8.61 Lakh   4.50  \n",
            "5      171.5 bhp    8.0     21 Lakh  17.50  \n",
            "8     103.25 bhp    5.0  10.65 Lakh   9.95  \n",
            "13    175.56 bhp    7.0  32.01 Lakh  15.00  \n",
            "18       190 bhp    5.0  47.87 Lakh  18.55  \n",
            "...          ...    ...         ...    ...  \n",
            "5827    88.7 bhp    5.0   7.77 Lakh   4.00  \n",
            "5830   103.5 bhp    5.0  11.91 Lakh   3.25  \n",
            "5833    88.5 bhp    5.0   9.93 Lakh   7.43  \n",
            "5838    86.8 bhp    5.0   6.63 Lakh   3.20  \n",
            "5842      74 bhp    5.0   7.88 Lakh   4.75  \n",
            "\n",
            "[814 rows x 14 columns]\n"
          ]
        }
      ]
    },
    {
      "cell_type": "code",
      "source": [
        "dataframe['Power']=dataframe['Power'].apply(numeric)"
      ],
      "metadata": {
        "id": "F2iFNUoZqUCh"
      },
      "execution_count": 17,
      "outputs": []
    },
    {
      "cell_type": "code",
      "source": [
        "dataframe['Engine']=dataframe['Engine'].apply(numeric)"
      ],
      "metadata": {
        "id": "wsHcJOp1qawb"
      },
      "execution_count": 18,
      "outputs": []
    },
    {
      "cell_type": "code",
      "source": [
        "dataframe['New_Price']=dataframe['New_Price'].apply(numeric)"
      ],
      "metadata": {
        "id": "0wxBHMUyqiZE"
      },
      "execution_count": 19,
      "outputs": []
    },
    {
      "cell_type": "code",
      "source": [
        "print(dataframe)"
      ],
      "metadata": {
        "colab": {
          "base_uri": "https://localhost:8080/"
        },
        "id": "EFVYesB3qoo4",
        "outputId": "3a4e5cbf-3a20-4d64-e7ae-ec7886fc4af1"
      },
      "execution_count": 20,
      "outputs": [
        {
          "output_type": "stream",
          "name": "stdout",
          "text": [
            "      Unnamed: 0                               Name Location  Year  \\\n",
            "1              2                       Honda Jazz V  Chennai  2011   \n",
            "5              7  Toyota Innova Crysta 2.8 GX AT 8S   Mumbai  2016   \n",
            "8             10                   Maruti Ciaz Zeta    Kochi  2018   \n",
            "13            15        Mitsubishi Pajero Sport 4X4    Delhi  2014   \n",
            "18            20                  BMW 3 Series 320d    Kochi  2014   \n",
            "...          ...                                ...      ...   ...   \n",
            "5827        5999              Tata Bolt Revotron XT  Chennai  2016   \n",
            "5830        6002      Volkswagen Vento 1.6 Highline   Mumbai  2011   \n",
            "5833        6005           Maruti Vitara Brezza VDi     Pune  2016   \n",
            "5838        6010               Honda Brio 1.2 VX MT    Delhi  2013   \n",
            "5842        6014                   Maruti Swift VDI    Delhi  2014   \n",
            "\n",
            "      Kilometers_Driven Fuel_Type Transmission Owner_Type  Mileage  Engine  \\\n",
            "1                 46000    Petrol       Manual      First       13    1199   \n",
            "5                 36000    Diesel    Automatic      First     1136    2755   \n",
            "8                 25692    Petrol       Manual      First     2156    1462   \n",
            "13               110000    Diesel       Manual      First      135    2477   \n",
            "18                32982    Diesel    Automatic      First     2269    1995   \n",
            "...                 ...       ...          ...        ...      ...     ...   \n",
            "5827              10000    Petrol       Manual      First     1757    1193   \n",
            "5830              38000    Petrol       Manual      First     1609    1598   \n",
            "5833              37208    Diesel       Manual      First      243    1248   \n",
            "5838              33746    Petrol       Manual      First      185    1198   \n",
            "5842              27365    Diesel       Manual      First      284    1248   \n",
            "\n",
            "      Power  Seats  New_Price  Price  \n",
            "1       887    5.0        861   4.50  \n",
            "5      1715    8.0         21  17.50  \n",
            "8     10325    5.0       1065   9.95  \n",
            "13    17556    7.0       3201  15.00  \n",
            "18      190    5.0       4787  18.55  \n",
            "...     ...    ...        ...    ...  \n",
            "5827    887    5.0        777   4.00  \n",
            "5830   1035    5.0       1191   3.25  \n",
            "5833    885    5.0        993   7.43  \n",
            "5838    868    5.0        663   3.20  \n",
            "5842     74    5.0        788   4.75  \n",
            "\n",
            "[814 rows x 14 columns]\n"
          ]
        }
      ]
    },
    {
      "cell_type": "code",
      "source": [
        "dataframe=pd.get_dummies(dataframe,columns=['Fuel_Type','Transmission'])\n",
        "print(dataframe)"
      ],
      "metadata": {
        "colab": {
          "base_uri": "https://localhost:8080/"
        },
        "id": "tmIx30Ukqv2S",
        "outputId": "10f73d19-5222-44e0-e74e-84b7e067b80a"
      },
      "execution_count": 21,
      "outputs": [
        {
          "output_type": "stream",
          "name": "stdout",
          "text": [
            "      Unnamed: 0                               Name Location  Year  \\\n",
            "1              2                       Honda Jazz V  Chennai  2011   \n",
            "5              7  Toyota Innova Crysta 2.8 GX AT 8S   Mumbai  2016   \n",
            "8             10                   Maruti Ciaz Zeta    Kochi  2018   \n",
            "13            15        Mitsubishi Pajero Sport 4X4    Delhi  2014   \n",
            "18            20                  BMW 3 Series 320d    Kochi  2014   \n",
            "...          ...                                ...      ...   ...   \n",
            "5827        5999              Tata Bolt Revotron XT  Chennai  2016   \n",
            "5830        6002      Volkswagen Vento 1.6 Highline   Mumbai  2011   \n",
            "5833        6005           Maruti Vitara Brezza VDi     Pune  2016   \n",
            "5838        6010               Honda Brio 1.2 VX MT    Delhi  2013   \n",
            "5842        6014                   Maruti Swift VDI    Delhi  2014   \n",
            "\n",
            "      Kilometers_Driven Owner_Type  Mileage  Engine  Power  Seats  New_Price  \\\n",
            "1                 46000      First       13    1199    887    5.0        861   \n",
            "5                 36000      First     1136    2755   1715    8.0         21   \n",
            "8                 25692      First     2156    1462  10325    5.0       1065   \n",
            "13               110000      First      135    2477  17556    7.0       3201   \n",
            "18                32982      First     2269    1995    190    5.0       4787   \n",
            "...                 ...        ...      ...     ...    ...    ...        ...   \n",
            "5827              10000      First     1757    1193    887    5.0        777   \n",
            "5830              38000      First     1609    1598   1035    5.0       1191   \n",
            "5833              37208      First      243    1248    885    5.0        993   \n",
            "5838              33746      First      185    1198    868    5.0        663   \n",
            "5842              27365      First      284    1248     74    5.0        788   \n",
            "\n",
            "      Price  Fuel_Type_Diesel  Fuel_Type_Petrol  Transmission_Automatic  \\\n",
            "1      4.50                 0                 1                       0   \n",
            "5     17.50                 1                 0                       1   \n",
            "8      9.95                 0                 1                       0   \n",
            "13    15.00                 1                 0                       0   \n",
            "18    18.55                 1                 0                       1   \n",
            "...     ...               ...               ...                     ...   \n",
            "5827   4.00                 0                 1                       0   \n",
            "5830   3.25                 0                 1                       0   \n",
            "5833   7.43                 1                 0                       0   \n",
            "5838   3.20                 0                 1                       0   \n",
            "5842   4.75                 1                 0                       0   \n",
            "\n",
            "      Transmission_Manual  \n",
            "1                       1  \n",
            "5                       0  \n",
            "8                       1  \n",
            "13                      1  \n",
            "18                      0  \n",
            "...                   ...  \n",
            "5827                    1  \n",
            "5830                    1  \n",
            "5833                    1  \n",
            "5838                    1  \n",
            "5842                    1  \n",
            "\n",
            "[814 rows x 16 columns]\n"
          ]
        }
      ]
    },
    {
      "cell_type": "code",
      "source": [
        "current_year = datetime.now().year\n",
        "dataframe['Car_Age'] = current_year - dataframe['Year']"
      ],
      "metadata": {
        "id": "9deHXss8rNya"
      },
      "execution_count": 23,
      "outputs": []
    },
    {
      "cell_type": "code",
      "source": [
        "print(dataframe)"
      ],
      "metadata": {
        "colab": {
          "base_uri": "https://localhost:8080/"
        },
        "id": "Ko87aCjAsNtH",
        "outputId": "36d50480-d5a5-4700-8592-890dc385628b"
      },
      "execution_count": 24,
      "outputs": [
        {
          "output_type": "stream",
          "name": "stdout",
          "text": [
            "      Unnamed: 0                               Name Location  Year  \\\n",
            "1              2                       Honda Jazz V  Chennai  2011   \n",
            "5              7  Toyota Innova Crysta 2.8 GX AT 8S   Mumbai  2016   \n",
            "8             10                   Maruti Ciaz Zeta    Kochi  2018   \n",
            "13            15        Mitsubishi Pajero Sport 4X4    Delhi  2014   \n",
            "18            20                  BMW 3 Series 320d    Kochi  2014   \n",
            "...          ...                                ...      ...   ...   \n",
            "5827        5999              Tata Bolt Revotron XT  Chennai  2016   \n",
            "5830        6002      Volkswagen Vento 1.6 Highline   Mumbai  2011   \n",
            "5833        6005           Maruti Vitara Brezza VDi     Pune  2016   \n",
            "5838        6010               Honda Brio 1.2 VX MT    Delhi  2013   \n",
            "5842        6014                   Maruti Swift VDI    Delhi  2014   \n",
            "\n",
            "      Kilometers_Driven Owner_Type  Mileage  Engine  Power  Seats  New_Price  \\\n",
            "1                 46000      First       13    1199    887    5.0        861   \n",
            "5                 36000      First     1136    2755   1715    8.0         21   \n",
            "8                 25692      First     2156    1462  10325    5.0       1065   \n",
            "13               110000      First      135    2477  17556    7.0       3201   \n",
            "18                32982      First     2269    1995    190    5.0       4787   \n",
            "...                 ...        ...      ...     ...    ...    ...        ...   \n",
            "5827              10000      First     1757    1193    887    5.0        777   \n",
            "5830              38000      First     1609    1598   1035    5.0       1191   \n",
            "5833              37208      First      243    1248    885    5.0        993   \n",
            "5838              33746      First      185    1198    868    5.0        663   \n",
            "5842              27365      First      284    1248     74    5.0        788   \n",
            "\n",
            "      Price  Fuel_Type_Diesel  Fuel_Type_Petrol  Transmission_Automatic  \\\n",
            "1      4.50                 0                 1                       0   \n",
            "5     17.50                 1                 0                       1   \n",
            "8      9.95                 0                 1                       0   \n",
            "13    15.00                 1                 0                       0   \n",
            "18    18.55                 1                 0                       1   \n",
            "...     ...               ...               ...                     ...   \n",
            "5827   4.00                 0                 1                       0   \n",
            "5830   3.25                 0                 1                       0   \n",
            "5833   7.43                 1                 0                       0   \n",
            "5838   3.20                 0                 1                       0   \n",
            "5842   4.75                 1                 0                       0   \n",
            "\n",
            "      Transmission_Manual  Car_Age  \n",
            "1                       1       12  \n",
            "5                       0        7  \n",
            "8                       1        5  \n",
            "13                      1        9  \n",
            "18                      0        9  \n",
            "...                   ...      ...  \n",
            "5827                    1        7  \n",
            "5830                    1       12  \n",
            "5833                    1        7  \n",
            "5838                    1       10  \n",
            "5842                    1        9  \n",
            "\n",
            "[814 rows x 17 columns]\n"
          ]
        }
      ]
    },
    {
      "cell_type": "code",
      "source": [
        "dataframe.to_csv('result.csv')"
      ],
      "metadata": {
        "id": "BdsLPOzssW8K"
      },
      "execution_count": 25,
      "outputs": []
    }
  ]
}